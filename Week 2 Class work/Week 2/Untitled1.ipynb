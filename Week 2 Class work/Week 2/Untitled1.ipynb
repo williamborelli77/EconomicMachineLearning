{
 "cells": [
  {
   "cell_type": "code",
   "execution_count": 2,
   "id": "a8f63064",
   "metadata": {},
   "outputs": [
    {
     "name": "stdout",
     "output_type": "stream",
     "text": [
      "Collecting yfinance\n",
      "  Obtaining dependency information for yfinance from https://files.pythonhosted.org/packages/58/f7/a966b800b49cb5379e348bf0717df481051714a99ece15289718562f6952/yfinance-0.2.35-py2.py3-none-any.whl.metadata\n",
      "  Downloading yfinance-0.2.35-py2.py3-none-any.whl.metadata (11 kB)\n",
      "Requirement already satisfied: pandas>=1.3.0 in c:\\users\\willi\\anaconda3\\lib\\site-packages (from yfinance) (2.0.3)\n",
      "Requirement already satisfied: numpy>=1.16.5 in c:\\users\\willi\\anaconda3\\lib\\site-packages (from yfinance) (1.24.3)\n",
      "Requirement already satisfied: requests>=2.31 in c:\\users\\willi\\anaconda3\\lib\\site-packages (from yfinance) (2.31.0)\n",
      "Collecting multitasking>=0.0.7 (from yfinance)\n",
      "  Downloading multitasking-0.0.11-py3-none-any.whl (8.5 kB)\n",
      "Requirement already satisfied: lxml>=4.9.1 in c:\\users\\willi\\anaconda3\\lib\\site-packages (from yfinance) (4.9.3)\n",
      "Requirement already satisfied: appdirs>=1.4.4 in c:\\users\\willi\\anaconda3\\lib\\site-packages (from yfinance) (1.4.4)\n",
      "Requirement already satisfied: pytz>=2022.5 in c:\\users\\willi\\anaconda3\\lib\\site-packages (from yfinance) (2023.3.post1)\n",
      "Collecting frozendict>=2.3.4 (from yfinance)\n",
      "  Downloading frozendict-2.4.0.tar.gz (314 kB)\n",
      "     ---------------------------------------- 0.0/314.6 kB ? eta -:--:--\n",
      "     ------------------------------ ------- 256.0/314.6 kB 7.9 MB/s eta 0:00:01\n",
      "     -------------------------------------- 314.6/314.6 kB 6.6 MB/s eta 0:00:00\n",
      "  Installing build dependencies: started\n",
      "  Installing build dependencies: finished with status 'done'\n",
      "  Getting requirements to build wheel: started\n",
      "  Getting requirements to build wheel: finished with status 'done'\n",
      "  Preparing metadata (pyproject.toml): started\n",
      "  Preparing metadata (pyproject.toml): finished with status 'done'\n",
      "Collecting peewee>=3.16.2 (from yfinance)\n",
      "  Downloading peewee-3.17.0.tar.gz (2.9 MB)\n",
      "     ---------------------------------------- 0.0/2.9 MB ? eta -:--:--\n",
      "     -------- ------------------------------- 0.6/2.9 MB 20.5 MB/s eta 0:00:01\n",
      "     ------------------ --------------------- 1.4/2.9 MB 17.3 MB/s eta 0:00:01\n",
      "     ---------------------------- ----------- 2.1/2.9 MB 14.7 MB/s eta 0:00:01\n",
      "     -------------------------------------- - 2.8/2.9 MB 15.2 MB/s eta 0:00:01\n",
      "     ---------------------------------------- 2.9/2.9 MB 14.5 MB/s eta 0:00:00\n",
      "  Installing build dependencies: started\n",
      "  Installing build dependencies: finished with status 'done'\n",
      "  Getting requirements to build wheel: started\n",
      "  Getting requirements to build wheel: finished with status 'done'\n",
      "  Preparing metadata (pyproject.toml): started\n",
      "  Preparing metadata (pyproject.toml): finished with status 'done'\n",
      "Requirement already satisfied: beautifulsoup4>=4.11.1 in c:\\users\\willi\\anaconda3\\lib\\site-packages (from yfinance) (4.12.2)\n",
      "Collecting html5lib>=1.1 (from yfinance)\n",
      "  Downloading html5lib-1.1-py2.py3-none-any.whl (112 kB)\n",
      "     ---------------------------------------- 0.0/112.2 kB ? eta -:--:--\n",
      "     -------------------------------------- 112.2/112.2 kB 6.4 MB/s eta 0:00:00\n",
      "Requirement already satisfied: soupsieve>1.2 in c:\\users\\willi\\anaconda3\\lib\\site-packages (from beautifulsoup4>=4.11.1->yfinance) (2.4)\n",
      "Requirement already satisfied: six>=1.9 in c:\\users\\willi\\anaconda3\\lib\\site-packages (from html5lib>=1.1->yfinance) (1.16.0)\n",
      "Requirement already satisfied: webencodings in c:\\users\\willi\\anaconda3\\lib\\site-packages (from html5lib>=1.1->yfinance) (0.5.1)\n",
      "Requirement already satisfied: python-dateutil>=2.8.2 in c:\\users\\willi\\anaconda3\\lib\\site-packages (from pandas>=1.3.0->yfinance) (2.8.2)\n",
      "Requirement already satisfied: tzdata>=2022.1 in c:\\users\\willi\\anaconda3\\lib\\site-packages (from pandas>=1.3.0->yfinance) (2023.3)\n",
      "Requirement already satisfied: charset-normalizer<4,>=2 in c:\\users\\willi\\anaconda3\\lib\\site-packages (from requests>=2.31->yfinance) (2.0.4)\n",
      "Requirement already satisfied: idna<4,>=2.5 in c:\\users\\willi\\anaconda3\\lib\\site-packages (from requests>=2.31->yfinance) (3.4)\n",
      "Requirement already satisfied: urllib3<3,>=1.21.1 in c:\\users\\willi\\anaconda3\\lib\\site-packages (from requests>=2.31->yfinance) (1.26.16)\n",
      "Requirement already satisfied: certifi>=2017.4.17 in c:\\users\\willi\\anaconda3\\lib\\site-packages (from requests>=2.31->yfinance) (2023.7.22)\n",
      "Downloading yfinance-0.2.35-py2.py3-none-any.whl (72 kB)\n",
      "   ---------------------------------------- 0.0/72.2 kB ? eta -:--:--\n",
      "   ---------------------------------------- 72.2/72.2 kB ? eta 0:00:00\n",
      "Building wheels for collected packages: frozendict, peewee\n",
      "  Building wheel for frozendict (pyproject.toml): started\n",
      "  Building wheel for frozendict (pyproject.toml): finished with status 'done'\n",
      "  Created wheel for frozendict: filename=frozendict-2.4.0-py3-none-any.whl size=15471 sha256=eaf82d5b28b15cac3605c216d6f5871976837bcd22fed6cc9741a86446a2648f\n",
      "  Stored in directory: c:\\users\\willi\\appdata\\local\\pip\\cache\\wheels\\31\\dd\\81\\a814e6f8cde8a1bbc1f088fdc273943371f10478b91a605e14\n",
      "  Building wheel for peewee (pyproject.toml): started\n",
      "  Building wheel for peewee (pyproject.toml): finished with status 'done'\n",
      "  Created wheel for peewee: filename=peewee-3.17.0-py3-none-any.whl size=135766 sha256=5bb554cb7e20d192c010d741c7898b5dca539fb3c277f2601f6f4bc7279b3560\n",
      "  Stored in directory: c:\\users\\willi\\appdata\\local\\pip\\cache\\wheels\\02\\20\\23\\74a10d0cd31f5d41c19b92ddf4c138ceff01b9f4675f19dbf5\n",
      "Successfully built frozendict peewee\n",
      "Installing collected packages: peewee, multitasking, html5lib, frozendict, yfinance\n",
      "Successfully installed frozendict-2.4.0 html5lib-1.1 multitasking-0.0.11 peewee-3.17.0 yfinance-0.2.35\n",
      "Note: you may need to restart the kernel to use updated packages.\n"
     ]
    }
   ],
   "source": [
    "pip install yfinance"
   ]
  }
 ],
 "metadata": {
  "kernelspec": {
   "display_name": "Python 3 (ipykernel)",
   "language": "python",
   "name": "python3"
  },
  "language_info": {
   "codemirror_mode": {
    "name": "ipython",
    "version": 3
   },
   "file_extension": ".py",
   "mimetype": "text/x-python",
   "name": "python",
   "nbconvert_exporter": "python",
   "pygments_lexer": "ipython3",
   "version": "3.11.5"
  }
 },
 "nbformat": 4,
 "nbformat_minor": 5
}
